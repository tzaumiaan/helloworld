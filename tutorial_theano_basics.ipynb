{
 "cells": [
  {
   "cell_type": "markdown",
   "metadata": {},
   "source": [
    "# Tutorial of Theano\n",
    "\n",
    "Source: http://deeplearning.net/software/theano/tutorial/index.html"
   ]
  },
  {
   "cell_type": "markdown",
   "metadata": {},
   "source": [
    "## Preparation\n",
    "Import Theano packages and other necessary packages"
   ]
  },
  {
   "cell_type": "code",
   "execution_count": 1,
   "metadata": {},
   "outputs": [],
   "source": [
    "from theano import *\n",
    "import theano.tensor as T\n",
    "import numpy as np"
   ]
  },
  {
   "cell_type": "markdown",
   "metadata": {},
   "source": [
    "## Data type declaration\n",
    "\n",
    "In Theano, all symbols must be typed.\n",
    "In particular, `T.dscalar` is the type we assign to\n",
    "“0-dimensional arrays (`scalar`) of doubles (`d`)”.\n",
    "It is a Theano Type.\n",
    "\n",
    "`dscalar` is not a class.\n",
    "Therefore, neither `x` nor `y` are actually instances of `dscalar`.\n",
    "They are instances of `TensorVariable`\n",
    "assigned the Theano Type `dscalar` in their type field,\n",
    "as shown here:"
   ]
  },
  {
   "cell_type": "code",
   "execution_count": 2,
   "metadata": {},
   "outputs": [
    {
     "name": "stdout",
     "output_type": "stream",
     "text": [
      "<class 'theano.tensor.var.TensorVariable'>\n",
      "TensorType(float64, scalar)\n",
      "TensorType(float64, scalar)\n",
      "True\n"
     ]
    }
   ],
   "source": [
    "x = T.dscalar('x')\n",
    "y = T.dscalar('y')\n",
    "print(type(x))\n",
    "print(x.type)\n",
    "print(T.dscalar)\n",
    "print(x.type is T.dscalar)"
   ]
  },
  {
   "cell_type": "markdown",
   "metadata": {},
   "source": [
    "Theano uses expression to describe the relation between variables.\n",
    "Now a new variable `z` is defined to be the summation of `x` and `y`.\n",
    "Use Theano `pp` to pretty-print `z`."
   ]
  },
  {
   "cell_type": "code",
   "execution_count": 3,
   "metadata": {},
   "outputs": [
    {
     "data": {
      "text/plain": [
       "'(x + y)'"
      ]
     },
     "execution_count": 3,
     "metadata": {},
     "output_type": "execute_result"
    }
   ],
   "source": [
    "z = x + y\n",
    "pp(z)"
   ]
  },
  {
   "cell_type": "markdown",
   "metadata": {},
   "source": [
    "Theano uses the keyword `function` to name such relationship.\n",
    "The first argument to function is a list of variables served as function input.\n",
    "The second argument is a single Variable or a list of Variables as function output.\n",
    "`f` may then be used like a normal Python function.\n",
    "\n"
   ]
  },
  {
   "cell_type": "code",
   "execution_count": 4,
   "metadata": {},
   "outputs": [
    {
     "data": {
      "text/plain": [
       "array(5.)"
      ]
     },
     "execution_count": 4,
     "metadata": {},
     "output_type": "execute_result"
    }
   ],
   "source": [
    "f = function([x, y], z)\n",
    "f(2,3)"
   ]
  },
  {
   "cell_type": "markdown",
   "metadata": {},
   "source": [
    "## Extension to matrix data types\n",
    "\n",
    "`dmatrix` is the Type for matrices of doubles.\n",
    "Now we define our variables to be matrices."
   ]
  },
  {
   "cell_type": "code",
   "execution_count": 5,
   "metadata": {},
   "outputs": [
    {
     "name": "stdout",
     "output_type": "stream",
     "text": [
      "<class 'theano.tensor.var.TensorVariable'>\n",
      "TensorType(float64, matrix)\n",
      "TensorType(float64, matrix)\n",
      "True\n"
     ]
    }
   ],
   "source": [
    "x = T.dmatrix('x')\n",
    "y = T.dmatrix('y')\n",
    "print(type(x))\n",
    "print(x.type)\n",
    "print(T.dmatrix)\n",
    "print(x.type is T.dmatrix)"
   ]
  },
  {
   "cell_type": "code",
   "execution_count": 6,
   "metadata": {},
   "outputs": [
    {
     "data": {
      "text/plain": [
       "array([[6., 8.]])"
      ]
     },
     "execution_count": 6,
     "metadata": {},
     "output_type": "execute_result"
    }
   ],
   "source": [
    "z = x + y\n",
    "f = function([x, y], z)\n",
    "\n",
    "# addition of two vectors\n",
    "f([[2,3]], [[4,5]])"
   ]
  },
  {
   "cell_type": "code",
   "execution_count": 7,
   "metadata": {},
   "outputs": [
    {
     "data": {
      "text/plain": [
       "array([[ 8., 10.],\n",
       "       [12., 14.]])"
      ]
     },
     "execution_count": 7,
     "metadata": {},
     "output_type": "execute_result"
    }
   ],
   "source": [
    "# addition of two matrices\n",
    "f([[2,3],[4,5]], [[6,7],[8,9]])"
   ]
  },
  {
   "cell_type": "markdown",
   "metadata": {},
   "source": [
    "It is also available to use `numpy` array data type as function input."
   ]
  },
  {
   "cell_type": "code",
   "execution_count": 8,
   "metadata": {},
   "outputs": [
    {
     "data": {
      "text/plain": [
       "array([[ 8., 10.],\n",
       "       [12., 14.]])"
      ]
     },
     "execution_count": 8,
     "metadata": {},
     "output_type": "execute_result"
    }
   ],
   "source": [
    "# addition of two numpy.array matrices\n",
    "f(np.array([[2,3],[4,5]]), np.array([[6,7],[8,9]]))"
   ]
  },
  {
   "cell_type": "markdown",
   "metadata": {},
   "source": [
    "Now we could also try other types such as `vector`.\n",
    "The following function tries to compute $a^2 + b^2 + 2ab$."
   ]
  },
  {
   "cell_type": "code",
   "execution_count": 9,
   "metadata": {},
   "outputs": [
    {
     "data": {
      "text/plain": [
       "array([100., 144., 196.])"
      ]
     },
     "execution_count": 9,
     "metadata": {},
     "output_type": "execute_result"
    }
   ],
   "source": [
    "a = T.vector()\n",
    "b = T.vector()\n",
    "out = a**2 + b**2 + 2*a*b\n",
    "f = function([a, b], out)\n",
    "f([0,1,2], [10,11,12])"
   ]
  },
  {
   "cell_type": "markdown",
   "metadata": {},
   "source": [
    "## Logistic function\n",
    "\n",
    "The following function computes the sigmoid.\n",
    "$$s(x) = \\frac{1}{1+e^{-x}}$$\n",
    "Note that Theano has math library including `exp()`."
   ]
  },
  {
   "cell_type": "code",
   "execution_count": 10,
   "metadata": {},
   "outputs": [
    {
     "data": {
      "text/plain": [
       "array([[0.5       , 0.73105858],\n",
       "       [0.26894142, 0.11920292]])"
      ]
     },
     "execution_count": 10,
     "metadata": {},
     "output_type": "execute_result"
    }
   ],
   "source": [
    "x = T.dmatrix()\n",
    "s = 1/(1+T.exp(-x))\n",
    "sigmoid = function([x], s)\n",
    "sigmoid([[0, 1], [-1, -2]])"
   ]
  },
  {
   "cell_type": "markdown",
   "metadata": {},
   "source": [
    "## Function with multiple outputs\n",
    "\n",
    "The following function computes summation, difference, and inner product of two vectors."
   ]
  },
  {
   "cell_type": "code",
   "execution_count": 11,
   "metadata": {},
   "outputs": [
    {
     "data": {
      "text/plain": [
       "[array([10., 12., 14.]), array([10., 10., 10.]), array(35.)]"
      ]
     },
     "execution_count": 11,
     "metadata": {},
     "output_type": "execute_result"
    }
   ],
   "source": [
    "a = T.vector()\n",
    "b = T.vector()\n",
    "summ = a+b\n",
    "diff = abs(a-b)\n",
    "inpd = T.dot(a, b.T)\n",
    "f = function([a, b], [summ, diff, inpd])\n",
    "f([0,1,2], [10,11,12])"
   ]
  },
  {
   "cell_type": "markdown",
   "metadata": {},
   "source": [
    "## Setting default values of variables\n",
    "We can use `In` class to specify properties of your function’s parameters with greater detail.\n",
    "Here we give a default value of 1 for y by creating a `In` instance with its `value` field set to 1."
   ]
  },
  {
   "cell_type": "code",
   "execution_count": 12,
   "metadata": {},
   "outputs": [
    {
     "name": "stdout",
     "output_type": "stream",
     "text": [
      "34.0\n",
      "38.0\n"
     ]
    }
   ],
   "source": [
    "x, y = T.dscalars('x', 'y')\n",
    "z = x + y\n",
    "# set a default value 1 for y\n",
    "f = function([x, In(y, value=1)], z)\n",
    "# show addition with default y\n",
    "print(f(33))\n",
    "# show results with other y value\n",
    "print(f(33, 5))"
   ]
  },
  {
   "cell_type": "markdown",
   "metadata": {},
   "source": [
    "These parameters can be set positionally or by `name`, \n",
    "so that we can specified in a function call."
   ]
  },
  {
   "cell_type": "code",
   "execution_count": 15,
   "metadata": {},
   "outputs": [
    {
     "data": {
      "text/plain": [
       "array(5.)"
      ]
     },
     "execution_count": 15,
     "metadata": {},
     "output_type": "execute_result"
    }
   ],
   "source": [
    "x, y = T.dscalars('x', 'y')\n",
    "z = x + y\n",
    "# set a default value 1 for y\n",
    "f = function([In(x, value=0, name=\"x_value\"), In(y, value=1, name=\"y_value\")], z)\n",
    "f(y_value=3, x_value=2)"
   ]
  },
  {
   "cell_type": "markdown",
   "metadata": {},
   "source": [
    "## Using Shared Variables\n",
    "It is also possible to make a function with an internal state. \n",
    "For example, let’s say we want to make an accumulator: \n",
    "at the beginning, the state is initialized to zero.\n",
    "Then, on each function call, the state is incremented by the function’s argument.\n",
    "\n",
    "First let’s define the `accumulator` function.\n",
    "It adds its argument to the internal state, and returns the old state value.\n",
    "\n",
    "Here we have a few new concepts.\n",
    "The `shared` function constructs so-called shared variables.\n",
    "These are hybrid symbolic and non-symbolic variables whose value may be shared between multiple functions.\n",
    "Shared variables can be used in symbolic expressions just like the objects returned by `dmatrices(...)`\n",
    "but they also have an internal value that defines\n",
    "the value taken by this symbolic variable in all the functions that use it. \n",
    "It is called a shared variable because its value is shared between many functions.\n",
    "The value can be accessed and modified by the `.get_value()` and `.set_value()` methods. \n",
    "\n",
    "The other new thing in this code is the `updates` parameter of function.\n",
    "`updates` must be supplied with a list of pairs of the form (shared-variable, new expression).\n",
    "It can also be a dictionary whose keys are shared-variables and values are the new expressions.\n",
    "Either way, it means “whenever this function runs, it will replace the `.value` of each shared variable\n",
    "with the result of the corresponding expression”.\n",
    "\n",
    "Our accumulator replaces the `state`‘s value with the sum of the state and the increment amount."
   ]
  },
  {
   "cell_type": "code",
   "execution_count": 19,
   "metadata": {},
   "outputs": [
    {
     "name": "stdout",
     "output_type": "stream",
     "text": [
      "Time 0: state =  0\n",
      "Accumulator with 1 as input, current value =  0\n",
      "Time 1: state =  1\n",
      "Accumulator with 300 as input, current value =  1\n",
      "Time 2: state =  301\n"
     ]
    }
   ],
   "source": [
    "state = shared(0)\n",
    "inc = T.iscalar('inc')\n",
    "accumulator = function([inc], state, updates=[(state, state+inc)])\n",
    "\n",
    "print(\"Time 0: state = \", state.get_value())\n",
    "print(\"Accumulator with 1 as input, current value = \", accumulator(1))\n",
    "print(\"Time 1: state = \", state.get_value())\n",
    "print(\"Accumulator with 300 as input, current value = \", accumulator(300))\n",
    "print(\"Time 2: state = \", state.get_value())"
   ]
  },
  {
   "cell_type": "code",
   "execution_count": null,
   "metadata": {},
   "outputs": [],
   "source": []
  }
 ],
 "metadata": {
  "kernelspec": {
   "display_name": "Python 3",
   "language": "python",
   "name": "python3"
  },
  "language_info": {
   "codemirror_mode": {
    "name": "ipython",
    "version": 3
   },
   "file_extension": ".py",
   "mimetype": "text/x-python",
   "name": "python",
   "nbconvert_exporter": "python",
   "pygments_lexer": "ipython3",
   "version": "3.6.4"
  }
 },
 "nbformat": 4,
 "nbformat_minor": 2
}
