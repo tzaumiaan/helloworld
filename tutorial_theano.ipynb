{
 "cells": [
  {
   "cell_type": "markdown",
   "metadata": {},
   "source": [
    "# Tutorial of Theano\n",
    "\n",
    "Source: http://deeplearning.net/software/theano/tutorial/index.html"
   ]
  },
  {
   "cell_type": "markdown",
   "metadata": {},
   "source": [
    "## Preparation\n",
    "Import Theano packages and other necessary packages"
   ]
  },
  {
   "cell_type": "code",
   "execution_count": 1,
   "metadata": {},
   "outputs": [],
   "source": [
    "from theano import *\n",
    "import theano.tensor as T\n",
    "import numpy as np"
   ]
  },
  {
   "cell_type": "markdown",
   "metadata": {},
   "source": [
    "## Data type declaration\n",
    "\n",
    "In Theano, all symbols must be typed.\n",
    "In particular, `T.dscalar` is the type we assign to\n",
    "“0-dimensional arrays (`scalar`) of doubles (`d`)”.\n",
    "It is a Theano Type.\n",
    "\n",
    "`dscalar` is not a class.\n",
    "Therefore, neither `x` nor `y` are actually instances of `dscalar`.\n",
    "They are instances of `TensorVariable`\n",
    "assigned the Theano Type `dscalar` in their type field,\n",
    "as shown here:"
   ]
  },
  {
   "cell_type": "code",
   "execution_count": 2,
   "metadata": {},
   "outputs": [
    {
     "name": "stdout",
     "output_type": "stream",
     "text": [
      "<class 'theano.tensor.var.TensorVariable'>\n",
      "TensorType(float64, scalar)\n",
      "TensorType(float64, scalar)\n",
      "True\n"
     ]
    }
   ],
   "source": [
    "x = T.dscalar('x')\n",
    "y = T.dscalar('y')\n",
    "print(type(x))\n",
    "print(x.type)\n",
    "print(T.dscalar)\n",
    "print(x.type is T.dscalar)"
   ]
  },
  {
   "cell_type": "markdown",
   "metadata": {},
   "source": [
    "Theano uses expression to describe the relation between variables.\n",
    "Now a new variable `z` is defined to be the summation of `x` and `y`.\n",
    "Use Theano `pp` to pretty-print `z`."
   ]
  },
  {
   "cell_type": "code",
   "execution_count": 3,
   "metadata": {},
   "outputs": [
    {
     "data": {
      "text/plain": [
       "'(x + y)'"
      ]
     },
     "execution_count": 3,
     "metadata": {},
     "output_type": "execute_result"
    }
   ],
   "source": [
    "z = x + y\n",
    "pp(z)"
   ]
  },
  {
   "cell_type": "markdown",
   "metadata": {},
   "source": [
    "Theano uses the keyword `function` to name such relationship.\n",
    "The first argument to function is a list of variables served as function input.\n",
    "The second argument is a single Variable or a list of Variables as function output.\n",
    "`f` may then be used like a normal Python function.\n",
    "\n"
   ]
  },
  {
   "cell_type": "code",
   "execution_count": 4,
   "metadata": {},
   "outputs": [
    {
     "data": {
      "text/plain": [
       "array(5.)"
      ]
     },
     "execution_count": 4,
     "metadata": {},
     "output_type": "execute_result"
    }
   ],
   "source": [
    "f = function([x, y], z)\n",
    "f(2,3)"
   ]
  },
  {
   "cell_type": "markdown",
   "metadata": {},
   "source": [
    "## Extension to matrix data types\n",
    "\n",
    "`dmatrix` is the Type for matrices of doubles.\n",
    "Now we define our variables to be matrices."
   ]
  },
  {
   "cell_type": "code",
   "execution_count": 5,
   "metadata": {},
   "outputs": [
    {
     "name": "stdout",
     "output_type": "stream",
     "text": [
      "<class 'theano.tensor.var.TensorVariable'>\n",
      "TensorType(float64, matrix)\n",
      "TensorType(float64, matrix)\n",
      "True\n"
     ]
    }
   ],
   "source": [
    "x = T.dmatrix('x')\n",
    "y = T.dmatrix('y')\n",
    "print(type(x))\n",
    "print(x.type)\n",
    "print(T.dmatrix)\n",
    "print(x.type is T.dmatrix)"
   ]
  },
  {
   "cell_type": "code",
   "execution_count": 6,
   "metadata": {},
   "outputs": [
    {
     "data": {
      "text/plain": [
       "array([[6., 8.]])"
      ]
     },
     "execution_count": 6,
     "metadata": {},
     "output_type": "execute_result"
    }
   ],
   "source": [
    "z = x + y\n",
    "f = function([x, y], z)\n",
    "\n",
    "# addition of two vectors\n",
    "f([[2,3]], [[4,5]])"
   ]
  },
  {
   "cell_type": "code",
   "execution_count": 7,
   "metadata": {},
   "outputs": [
    {
     "data": {
      "text/plain": [
       "array([[ 8., 10.],\n",
       "       [12., 14.]])"
      ]
     },
     "execution_count": 7,
     "metadata": {},
     "output_type": "execute_result"
    }
   ],
   "source": [
    "# addition of two matrices\n",
    "f([[2,3],[4,5]], [[6,7],[8,9]])"
   ]
  },
  {
   "cell_type": "markdown",
   "metadata": {},
   "source": [
    "It is also available to use `numpy` array data type as function input."
   ]
  },
  {
   "cell_type": "code",
   "execution_count": 8,
   "metadata": {},
   "outputs": [
    {
     "data": {
      "text/plain": [
       "array([[ 8., 10.],\n",
       "       [12., 14.]])"
      ]
     },
     "execution_count": 8,
     "metadata": {},
     "output_type": "execute_result"
    }
   ],
   "source": [
    "# addition of two numpy.array matrices\n",
    "f(np.array([[2,3],[4,5]]), np.array([[6,7],[8,9]]))"
   ]
  },
  {
   "cell_type": "markdown",
   "metadata": {},
   "source": [
    "Now we could also try other types such as `vector`.\n",
    "The following function tries to compute $a^2 + b^2 + 2ab$."
   ]
  },
  {
   "cell_type": "code",
   "execution_count": 9,
   "metadata": {},
   "outputs": [
    {
     "data": {
      "text/plain": [
       "array([100., 144., 196.])"
      ]
     },
     "execution_count": 9,
     "metadata": {},
     "output_type": "execute_result"
    }
   ],
   "source": [
    "a = T.vector()\n",
    "b = T.vector()\n",
    "out = a**2 + b**2 + 2*a*b\n",
    "f = function([a, b], out)\n",
    "f([0,1,2], [10,11,12])"
   ]
  },
  {
   "cell_type": "markdown",
   "metadata": {},
   "source": [
    "## Logistic function\n",
    "\n",
    "The following function computes the sigmoid.\n",
    "$$s(x) = \\frac{1}{1+e^{-x}}$$\n",
    "Note that Theano has math library including `exp()`."
   ]
  },
  {
   "cell_type": "code",
   "execution_count": 10,
   "metadata": {},
   "outputs": [
    {
     "data": {
      "text/plain": [
       "array([[0.5       , 0.73105858],\n",
       "       [0.26894142, 0.11920292]])"
      ]
     },
     "execution_count": 10,
     "metadata": {},
     "output_type": "execute_result"
    }
   ],
   "source": [
    "x = T.dmatrix()\n",
    "s = 1/(1+T.exp(-x))\n",
    "sigmoid = function([x], s)\n",
    "sigmoid([[0, 1], [-1, -2]])"
   ]
  },
  {
   "cell_type": "markdown",
   "metadata": {},
   "source": [
    "## Function with multiple outputs\n",
    "\n",
    "The following function computes summation, difference, and inner product of two vectors."
   ]
  },
  {
   "cell_type": "code",
   "execution_count": 12,
   "metadata": {},
   "outputs": [
    {
     "data": {
      "text/plain": [
       "[array([10., 12., 14.]), array([10., 10., 10.]), array(35.)]"
      ]
     },
     "execution_count": 12,
     "metadata": {},
     "output_type": "execute_result"
    }
   ],
   "source": [
    "a = T.vector()\n",
    "b = T.vector()\n",
    "summ = a+b\n",
    "diff = abs(a-b)\n",
    "inpd = T.dot(a, b.T)\n",
    "f = function([a, b], [summ, diff, inpd])\n",
    "f([0,1,2], [10,11,12])"
   ]
  },
  {
   "cell_type": "code",
   "execution_count": null,
   "metadata": {},
   "outputs": [],
   "source": []
  }
 ],
 "metadata": {
  "kernelspec": {
   "display_name": "Python 3",
   "language": "python",
   "name": "python3"
  },
  "language_info": {
   "codemirror_mode": {
    "name": "ipython",
    "version": 3
   },
   "file_extension": ".py",
   "mimetype": "text/x-python",
   "name": "python",
   "nbconvert_exporter": "python",
   "pygments_lexer": "ipython3",
   "version": "3.5.2"
  }
 },
 "nbformat": 4,
 "nbformat_minor": 2
}
